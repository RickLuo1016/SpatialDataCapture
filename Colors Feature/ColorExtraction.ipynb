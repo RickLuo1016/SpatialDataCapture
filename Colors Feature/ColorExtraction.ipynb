{
 "cells": [
  {
   "cell_type": "code",
   "execution_count": 3,
   "metadata": {},
   "outputs": [],
   "source": [
    "# Packages that we use \n",
    "from __future__ import division\n",
    "import json as js\n",
    "import pandas as pd\n",
    "import numpy as np\n",
    "import webcolors\n",
    "import time\n",
    "from PIL import Image as pil\n",
    "import urllib.request as urllib\n",
    "import io\n",
    "from matplotlib import colors as mcolors\n",
    "import math as mt\n",
    "\n",
    "# run this command too - just to allow more data to be displayed than default\n",
    "pd.set_option('display.max_rows', 50)\n",
    "# this one ensures graphs properly display in the notebook\n",
    "%matplotlib inline\n",
    "\n"
   ]
  },
  {
   "cell_type": "code",
   "execution_count": 4,
   "metadata": {},
   "outputs": [],
   "source": [
    "# %load ./colorgram/__init__.py\n",
    "\n",
    "# colorgram.py, a module to extract colors from images.\n",
    "# Based on Jan Forst's original JavaScript version.\n",
    "\n",
    "from __future__ import absolute_import\n",
    "\n"
   ]
  },
  {
   "cell_type": "markdown",
   "metadata": {},
   "source": [
    "# The following code is taken from the colorgram package and adapted to our specific need, it is further optimized due to the large amount of data that is going to be analysed; This code extracts the N most present colors in a picture in RGB format. N is defined by the user;"
   ]
  },
  {
   "cell_type": "markdown",
   "metadata": {},
   "source": [
    "https://github.com/obskyr/colorgram.py"
   ]
  },
  {
   "cell_type": "code",
   "execution_count": 5,
   "metadata": {},
   "outputs": [],
   "source": [
    "# %load ./colorgram/colorgram.py\n",
    "\n",
    "\n",
    "from __future__ import unicode_literals\n",
    "from __future__ import division\n",
    "\n",
    "import array\n",
    "from collections import namedtuple\n",
    "from PIL import Image\n",
    "\n",
    "import sys\n",
    "if sys.version_info[0] <= 2:\n",
    "    range = xrange\n",
    "    ARRAY_DATATYPE = b'l'\n",
    "else:\n",
    "    ARRAY_DATATYPE = 'l'\n",
    "\n",
    "class Color(object):\n",
    "    def __init__(self, r, g, b, proportion):\n",
    "        self.rgb = (r, g, b)\n",
    "        self.proportion = proportion\n",
    "    \n",
    "    def __repr__(self):\n",
    "        return \"<colorgram.py Color: {}, {}%>\".format(\n",
    "            str(self.rgb), str(self.proportion * 100))\n",
    "    \n",
    "def extract(f, number_of_colors):\n",
    "    image = Image.open(io.BytesIO(urllib.urlopen(f).read()))\n",
    "    image = image.convert('RGB')\n",
    "    samples = sample(image)\n",
    "    used = pick_used(samples)\n",
    "    used.sort(key=lambda x: x[0], reverse=True)\n",
    "    return get_colors(samples, used, number_of_colors)\n",
    "\n",
    "def sample(image):\n",
    "    top_two_bits = 0b11000000\n",
    "\n",
    "    sides = 1 << 2 # Left by the number of bits used.\n",
    "    cubes = sides ** 7\n",
    "\n",
    "    samples = array.array(ARRAY_DATATYPE, (0 for _ in range(cubes)))\n",
    "    width, height = image.size\n",
    "    \n",
    "    pixels = image.load()\n",
    "    for y in range(height):\n",
    "        for x in range(width):\n",
    "            # Pack the top two bits of all 6 values into 12 bits.\n",
    "            # 0bYYhhllrrggbb - luminance, hue, luminosity, red, green, blue.\n",
    "\n",
    "            r, g, b = pixels[x, y][:3]\n",
    "            # Standard constants for converting RGB to relative luminance.\n",
    "            Y = int(r * 0.2126 + g * 0.7152 + b * 0.0722)\n",
    "\n",
    "            # Everything's shifted into place from the top two\n",
    "            # bits' original position - that is, bits 7-8.\n",
    "            packed  = (Y & top_two_bits) << 4\n",
    "            packed *= 4\n",
    "            samples[packed]     += r\n",
    "            samples[packed + 1] += g\n",
    "            samples[packed + 2] += b\n",
    "            samples[packed + 3] += 1\n",
    "    return samples\n",
    "\n",
    "def pick_used(samples):\n",
    "    used = []\n",
    "    for i in range(0, len(samples), 4):\n",
    "        count = samples[i + 3]\n",
    "        if count:\n",
    "            used.append((count, i))\n",
    "    return used\n",
    "\n",
    "def get_colors(samples, used, number_of_colors):\n",
    "    pixels = 0\n",
    "    colors = []\n",
    "    number_of_colors = min(number_of_colors, len(used))\n",
    "\n",
    "    for count, index in used[:number_of_colors]:\n",
    "        pixels += count\n",
    "\n",
    "        color = Color(\n",
    "            samples[index]     // count,\n",
    "            samples[index + 1] // count,\n",
    "            samples[index + 2] // count,\n",
    "            count\n",
    "        )\n",
    "\n",
    "        colors.append(color)\n",
    "    for color in colors:\n",
    "        color.proportion /= pixels\n",
    "    return colors\n"
   ]
  },
  {
   "cell_type": "markdown",
   "metadata": {},
   "source": [
    "The function distance takes a pair of lists (vectors) with 3 elements each and returns the cartesian distance between the two points that the vectors point to as follows :\n",
    "$distance([x_1,x_2,x_3],[y_1,y_2,y_3])=\\sqrt{(x_1-y_1)^2+(x_2-y_2)^2+(x_3-y_3)^2}$ \\n\n",
    "Under the RGB representation, the colors are all the points with integer coordinates in the 3D cartesian space within a cube of side 256 in the 1st quadrant with a corner a the origin. \\n\n",
    "This way, we can represent each color as a vector that is contained in the RGB cube;\n",
    "Then, relying on a set of colors that we know (colorsRGB variable ), we can assign names to the colors based on their proximity to the ones we know. "
   ]
  },
  {
   "cell_type": "code",
   "execution_count": 6,
   "metadata": {},
   "outputs": [],
   "source": [
    "# Home made functions\n",
    "# Function Cartesian distance to use for color assignement\n",
    "\n",
    "def distance(x = [0,0,0],y = [0,0,0]):\n",
    "    '''distance between two 3D vectors passed sa arguments'''\n",
    "    return mt.sqrt(pow(x[0]-y[0],2)+pow(x[1]-y[1],2)+pow(x[2]-y[2],2))\n",
    "    \n",
    "def rgbtolist(rgb):\n",
    "    '''converts the colorgram rgb variable into a simple list with 3 values'''\n",
    "    return [rgb[0],rgb[1],rgb[2]]\n",
    "\n",
    "def closestcolor(dist = 1000,x = [0,0,0]):\n",
    "    '''returns the distance and the closest color in our database to a the passed color parameter'''\n",
    "    j = 0\n",
    "    for k in range(1,colorsRGB.shape[1]): \n",
    "            if dist > distance(x,colorsRGB.loc[:,cols[k]].tolist()):\n",
    "                dist = distance(x,colorsRGB.loc[:,cols[k]].tolist())\n",
    "                j=k\n",
    "    return dist,cols[j]\n",
    "# the central function of the color recognition algorithm, takes the url of an image and returns its main color palette.\n",
    "# if unable to extract the colors, returns np.nan\n",
    "\n",
    "def ColorRecognition(URL):\n",
    "    '''Returns the color paletteof an image passed as a URL in the parameter of the function'''\n",
    "    try : \n",
    "        colors = extract(URL, main_color_num)\n",
    "        color_list = pd.DataFrame(data = ([rgbtolist(color.rgb), color.proportion] for color in colors), columns = ['RGB','Proportion'])\n",
    "        Couleurs = []\n",
    "        for i,p in enumerate(color_list['Proportion']):\n",
    "            couleur = \"not assigned color\"\n",
    "            #print(p)\n",
    "            if p > 0.08:\n",
    "                #print(p > 0.3)\n",
    "                x = color_list.loc[i,'RGB']\n",
    "                #print(colorsRGB.loc[:,cols[0]])\n",
    "                dist = distance(x,colorsRGB.loc[:,cols[0]].tolist())\n",
    "                dist,couleur  = closestcolor(dist,x)\n",
    "            #print(couleur)\n",
    "            if couleur != \"not assigned color\":\n",
    "                Couleurs.append(couleur)\n",
    "        return Couleurs\n",
    "    except : \n",
    "        return np.nan\n"
   ]
  },
  {
   "cell_type": "markdown",
   "metadata": {},
   "source": [
    "# Generating the reference color palette based on the CSS colors, originally there are 148 colors, but for optimization reasons, 54 are kept. "
   ]
  },
  {
   "cell_type": "markdown",
   "metadata": {},
   "source": [
    "it is taken from matplotlib"
   ]
  },
  {
   "cell_type": "code",
   "execution_count": null,
   "metadata": {},
   "outputs": [],
   "source": [
    "# storing the values in a dictionary, initially, they are in Hex basis. ex: #AB0A15\n",
    "colors = dict(mcolors.BASE_COLORS, **mcolors.CSS4_COLORS)"
   ]
  },
  {
   "cell_type": "code",
   "execution_count": null,
   "metadata": {},
   "outputs": [],
   "source": [
    "# converting the values to RGB in decimal basis\n",
    "for name, color in colors.items():\n",
    "    colors[name] = mcolors.to_rgb(color)"
   ]
  },
  {
   "cell_type": "code",
   "execution_count": null,
   "metadata": {},
   "outputs": [],
   "source": [
    "# Defining global variables that are the colors database and names\n",
    "global cols\n",
    "global colorsRGB"
   ]
  },
  {
   "cell_type": "code",
   "execution_count": null,
   "metadata": {},
   "outputs": [],
   "source": [
    "# requires matplotlib package to run\n",
    "def generateColorPalette():\n",
    "    ''''''\n",
    "    # storing the values in a dictionary, initially, they are in Hex basis. ex: #AB0A15\n",
    "    colors = dict(mcolors.BASE_COLORS, **mcolors.CSS4_COLORS)\n",
    "    # converting the values to RGB in decimal basis\n",
    "    for name, color in colors.items():\n",
    "        colors[name] = mcolors.to_rgb(color)\n",
    "    # storing them in a data frame\n",
    "    colorsRGB = pd.DataFrame(data = colors)\n",
    "    #droping the basic pallette\n",
    "    colorsRGB = colorsRGB.drop(colorsRGB.columns[0:8], axis=1)\n",
    "    #Converting to values from 0 to 255\n",
    "    colorsRGB *= 256\n",
    "    colorsRGB = colorsRGB.round(0)\n",
    "    cols=colorsRGB.columns\n",
    "    # the set is reduced from 148 to 54 colors in order to optimize the color detection on a large data set. \n",
    "    keepcolors = [0,1,3,5,6,7,9,10,11,15,16,20,42,49,51,53,54,55,57,59,60,61,62,63,65,82,83,84,85,86,97,99,101,103,105,106,107,112,114,115,118,120,121,122,124,128,129,134,137,138,140,141,142,143,144,146]\n",
    "    #assigning the colors to keep\n",
    "    cols = cols[keepcolors]\n",
    "    # keeping only the RGB values we want and return\n",
    "    return colorsRGB[cols]"
   ]
  },
  {
   "cell_type": "code",
   "execution_count": null,
   "metadata": {},
   "outputs": [],
   "source": [
    "colorsRGB = generateColorPalette()"
   ]
  },
  {
   "cell_type": "code",
   "execution_count": null,
   "metadata": {},
   "outputs": [],
   "source": [
    "# Final color pallette\n",
    "colorsRGB"
   ]
  },
  {
   "cell_type": "markdown",
   "metadata": {},
   "source": [
    "# Reading the data to analyze"
   ]
  },
  {
   "cell_type": "code",
   "execution_count": null,
   "metadata": {},
   "outputs": [],
   "source": [
    "artworks = pd.read_json('CleanedDataJG.json')"
   ]
  },
  {
   "cell_type": "code",
   "execution_count": null,
   "metadata": {},
   "outputs": [],
   "source": [
    "artworks"
   ]
  },
  {
   "cell_type": "code",
   "execution_count": null,
   "metadata": {},
   "outputs": [],
   "source": [
    "# producing a sample data set for initial tests; \n",
    "artworksSample = artworks.sample(frac = 0.001, axis = 0)"
   ]
  },
  {
   "cell_type": "code",
   "execution_count": null,
   "metadata": {},
   "outputs": [],
   "source": [
    "artworksSample"
   ]
  },
  {
   "cell_type": "markdown",
   "metadata": {},
   "source": [
    "# TEST ON THE SAMPLE DATA SET "
   ]
  },
  {
   "cell_type": "code",
   "execution_count": null,
   "metadata": {},
   "outputs": [],
   "source": [
    "#number of colors to extract from each image\n",
    "main_color_num = 6"
   ]
  },
  {
   "cell_type": "markdown",
   "metadata": {},
   "source": [
    "# the %prun command returns the detailed times it took for each function call within the cell; it is initially used for  finding the time consuming operations in order to try to reduce it. "
   ]
  },
  {
   "cell_type": "code",
   "execution_count": null,
   "metadata": {},
   "outputs": [],
   "source": [
    "# Running a test on a sample that constitutes 0.001 of the whole data set\n",
    "\n",
    "%prun artworksSample['Colors'] = artworksSample['ThumbnailURL'].apply(ColorRecognition)"
   ]
  },
  {
   "cell_type": "code",
   "execution_count": null,
   "metadata": {},
   "outputs": [],
   "source": [
    "artworksSample"
   ]
  },
  {
   "cell_type": "markdown",
   "metadata": {},
   "source": [
    "# Visual verification of the outputs on the sample data set"
   ]
  },
  {
   "cell_type": "code",
   "execution_count": null,
   "metadata": {},
   "outputs": [],
   "source": [
    "#print the colors \n",
    "for i, x in enumerate(artworksSample['ThumbnailURL']):\n",
    "    print(artworksSample.loc[artworksSample.index[i],'Colors'])\n",
    "    Image.open(io.BytesIO(urllib.urlopen(x).read())).show()"
   ]
  },
  {
   "cell_type": "markdown",
   "metadata": {},
   "source": [
    "# MAIN COLOR EXTRACTION"
   ]
  },
  {
   "cell_type": "markdown",
   "metadata": {},
   "source": [
    "# The best result in term of time was 19 seconds for the sample data set with 69 images ; so the $t_{min}= 0.27$ second per image;\n",
    "# The total computation for 70000 files should take around 6-7 hours depending on the internet connection"
   ]
  },
  {
   "cell_type": "code",
   "execution_count": null,
   "metadata": {},
   "outputs": [],
   "source": [
    "# Line that runs for 8 hours and generates the coor palette of each artwork of the moma collection. \n",
    "%%prun\n",
    "artworks.loc['Colors'] = artworks.loc['ThumbnailURL'].apply(ColorRecognition)"
   ]
  },
  {
   "cell_type": "code",
   "execution_count": 12,
   "metadata": {},
   "outputs": [],
   "source": [
    "artworks.to_csv('artworksandColors.csv', sep = ';')\n",
    "artworks.to_json('ArtworksandColors.json')"
   ]
  },
  {
   "cell_type": "markdown",
   "metadata": {},
   "source": [
    "1st run : 0-1k works, 660 secs\n",
    "2nd run : 1k-5k , 1267 secs\n",
    "3rd run : 5k - 15k, 3048 secs\n",
    "4th run : 15k - 25k, 3656 secs\n",
    "5th run : 25k-35k, 3862 secs\n",
    "6th run : 35k-45k, 4315 secs\n",
    "7th run : 45k - 55k , 5250 secs\n",
    "8th run : 55k-65k , 5397 secs\n",
    "9th run : 65k-end , 2024 secs\n",
    "\n",
    "TOTAL TIME : 29479 seconds, 8.2 hours, not so bad ! "
   ]
  },
  {
   "cell_type": "code",
   "execution_count": 5,
   "metadata": {},
   "outputs": [],
   "source": [
    "artworks = pd.read_json('ArtworksandColors.json')"
   ]
  },
  {
   "cell_type": "markdown",
   "metadata": {},
   "source": [
    "# Summary statistics"
   ]
  },
  {
   "cell_type": "code",
   "execution_count": 7,
   "metadata": {},
   "outputs": [],
   "source": [
    "l1 = artworks.shape[0]"
   ]
  },
  {
   "cell_type": "code",
   "execution_count": 8,
   "metadata": {},
   "outputs": [
    {
     "data": {
      "text/plain": [
       "68688"
      ]
     },
     "execution_count": 8,
     "metadata": {},
     "output_type": "execute_result"
    }
   ],
   "source": [
    "l1"
   ]
  },
  {
   "cell_type": "code",
   "execution_count": 9,
   "metadata": {},
   "outputs": [],
   "source": [
    "l2 = len(artworks.explode('Colors'))"
   ]
  },
  {
   "cell_type": "code",
   "execution_count": 10,
   "metadata": {},
   "outputs": [
    {
     "data": {
      "text/plain": [
       "166713"
      ]
     },
     "execution_count": 10,
     "metadata": {},
     "output_type": "execute_result"
    }
   ],
   "source": [
    "l2"
   ]
  },
  {
   "cell_type": "code",
   "execution_count": 11,
   "metadata": {},
   "outputs": [],
   "source": [
    "r = l2/l1"
   ]
  },
  {
   "cell_type": "code",
   "execution_count": 12,
   "metadata": {},
   "outputs": [
    {
     "data": {
      "text/plain": [
       "2.427105171208945"
      ]
     },
     "execution_count": 12,
     "metadata": {},
     "output_type": "execute_result"
    }
   ],
   "source": [
    "r"
   ]
  },
  {
   "cell_type": "code",
   "execution_count": 13,
   "metadata": {},
   "outputs": [],
   "source": [
    "artworks = artworks.explode('Colors')"
   ]
  },
  {
   "cell_type": "code",
   "execution_count": 19,
   "metadata": {},
   "outputs": [
    {
     "data": {
      "text/plain": [
       "166713"
      ]
     },
     "execution_count": 19,
     "metadata": {},
     "output_type": "execute_result"
    }
   ],
   "source": [
    "artworks.shape[0]"
   ]
  },
  {
   "cell_type": "code",
   "execution_count": 25,
   "metadata": {},
   "outputs": [],
   "source": [
    "dimgray = artworks.Colors.value_counts()[0]"
   ]
  },
  {
   "cell_type": "code",
   "execution_count": 26,
   "metadata": {},
   "outputs": [
    {
     "data": {
      "text/plain": [
       "38321"
      ]
     },
     "execution_count": 26,
     "metadata": {},
     "output_type": "execute_result"
    }
   ],
   "source": [
    "dimgray"
   ]
  },
  {
   "cell_type": "code",
   "execution_count": 28,
   "metadata": {},
   "outputs": [],
   "source": [
    "top10 = artworks.Colors.value_counts()[0:10]/l1"
   ]
  },
  {
   "cell_type": "code",
   "execution_count": 29,
   "metadata": {},
   "outputs": [
    {
     "data": {
      "text/plain": [
       "dimgray         0.557899\n",
       "rosybrown       0.461565\n",
       "black           0.340831\n",
       "gainsboro       0.335706\n",
       "silver          0.138685\n",
       "linen           0.119642\n",
       "wheat           0.070871\n",
       "gray            0.069663\n",
       "antiquewhite    0.063636\n",
       "tan             0.054071\n",
       "Name: Colors, dtype: float64"
      ]
     },
     "execution_count": 29,
     "metadata": {},
     "output_type": "execute_result"
    }
   ],
   "source": [
    "top10"
   ]
  },
  {
   "cell_type": "code",
   "execution_count": 30,
   "metadata": {},
   "outputs": [
    {
     "data": {
      "text/html": [
       "<div>\n",
       "<style scoped>\n",
       "    .dataframe tbody tr th:only-of-type {\n",
       "        vertical-align: middle;\n",
       "    }\n",
       "\n",
       "    .dataframe tbody tr th {\n",
       "        vertical-align: top;\n",
       "    }\n",
       "\n",
       "    .dataframe thead th {\n",
       "        text-align: right;\n",
       "    }\n",
       "</style>\n",
       "<table border=\"1\" class=\"dataframe\">\n",
       "  <thead>\n",
       "    <tr style=\"text-align: right;\">\n",
       "      <th></th>\n",
       "      <th>FID</th>\n",
       "      <th>Title</th>\n",
       "      <th>Artist</th>\n",
       "      <th>NationalityCleaner</th>\n",
       "      <th>Classification</th>\n",
       "      <th>tidyDate</th>\n",
       "      <th>Decade</th>\n",
       "      <th>GenderClean</th>\n",
       "      <th>Medium</th>\n",
       "      <th>ThumbnailURL</th>\n",
       "      <th>ConstituentID</th>\n",
       "      <th>ObjectID</th>\n",
       "      <th>AccessionNumber</th>\n",
       "      <th>URL</th>\n",
       "      <th>Colors</th>\n",
       "    </tr>\n",
       "  </thead>\n",
       "  <tbody>\n",
       "    <tr>\n",
       "      <th>0</th>\n",
       "      <td>0</td>\n",
       "      <td>Ferdinandsbrücke Project, Vienna, Austria (Ele...</td>\n",
       "      <td>[Otto Wagner]</td>\n",
       "      <td>[Austrian]</td>\n",
       "      <td>Architecture</td>\n",
       "      <td>1896</td>\n",
       "      <td>1890</td>\n",
       "      <td>[Male]</td>\n",
       "      <td>Ink and cut-and-pasted painted pages on paper</td>\n",
       "      <td>http://www.moma.org/media/W1siZiIsIjU5NDA1Il0s...</td>\n",
       "      <td>[6210]</td>\n",
       "      <td>2</td>\n",
       "      <td>885.1996</td>\n",
       "      <td>http://www.moma.org/collection/works/2</td>\n",
       "      <td>rosybrown</td>\n",
       "    </tr>\n",
       "    <tr>\n",
       "      <th>1</th>\n",
       "      <td>1</td>\n",
       "      <td>City of Music, National Superior Conservatory ...</td>\n",
       "      <td>[Christian de Portzamparc]</td>\n",
       "      <td>[French]</td>\n",
       "      <td>Architecture</td>\n",
       "      <td>1987</td>\n",
       "      <td>1980</td>\n",
       "      <td>[Male]</td>\n",
       "      <td>Paint and colored pencil on print</td>\n",
       "      <td>http://www.moma.org/media/W1siZiIsIjk3Il0sWyJw...</td>\n",
       "      <td>[7470]</td>\n",
       "      <td>3</td>\n",
       "      <td>1.1995</td>\n",
       "      <td>http://www.moma.org/collection/works/3</td>\n",
       "      <td>rosybrown</td>\n",
       "    </tr>\n",
       "    <tr>\n",
       "      <th>1</th>\n",
       "      <td>1</td>\n",
       "      <td>City of Music, National Superior Conservatory ...</td>\n",
       "      <td>[Christian de Portzamparc]</td>\n",
       "      <td>[French]</td>\n",
       "      <td>Architecture</td>\n",
       "      <td>1987</td>\n",
       "      <td>1980</td>\n",
       "      <td>[Male]</td>\n",
       "      <td>Paint and colored pencil on print</td>\n",
       "      <td>http://www.moma.org/media/W1siZiIsIjk3Il0sWyJw...</td>\n",
       "      <td>[7470]</td>\n",
       "      <td>3</td>\n",
       "      <td>1.1995</td>\n",
       "      <td>http://www.moma.org/collection/works/3</td>\n",
       "      <td>dimgray</td>\n",
       "    </tr>\n",
       "    <tr>\n",
       "      <th>2</th>\n",
       "      <td>2</td>\n",
       "      <td>Villa near Vienna Project, Outside Vienna, Aus...</td>\n",
       "      <td>[Emil Hoppe]</td>\n",
       "      <td>[Austrian]</td>\n",
       "      <td>Architecture</td>\n",
       "      <td>1903</td>\n",
       "      <td>1900</td>\n",
       "      <td>[Male]</td>\n",
       "      <td>Graphite, pen, color pencil, ink, and gouache ...</td>\n",
       "      <td>http://www.moma.org/media/W1siZiIsIjk4Il0sWyJw...</td>\n",
       "      <td>[7605]</td>\n",
       "      <td>4</td>\n",
       "      <td>1.1997</td>\n",
       "      <td>http://www.moma.org/collection/works/4</td>\n",
       "      <td>wheat</td>\n",
       "    </tr>\n",
       "    <tr>\n",
       "      <th>2</th>\n",
       "      <td>2</td>\n",
       "      <td>Villa near Vienna Project, Outside Vienna, Aus...</td>\n",
       "      <td>[Emil Hoppe]</td>\n",
       "      <td>[Austrian]</td>\n",
       "      <td>Architecture</td>\n",
       "      <td>1903</td>\n",
       "      <td>1900</td>\n",
       "      <td>[Male]</td>\n",
       "      <td>Graphite, pen, color pencil, ink, and gouache ...</td>\n",
       "      <td>http://www.moma.org/media/W1siZiIsIjk4Il0sWyJw...</td>\n",
       "      <td>[7605]</td>\n",
       "      <td>4</td>\n",
       "      <td>1.1997</td>\n",
       "      <td>http://www.moma.org/collection/works/4</td>\n",
       "      <td>rosybrown</td>\n",
       "    </tr>\n",
       "    <tr>\n",
       "      <th>...</th>\n",
       "      <td>...</td>\n",
       "      <td>...</td>\n",
       "      <td>...</td>\n",
       "      <td>...</td>\n",
       "      <td>...</td>\n",
       "      <td>...</td>\n",
       "      <td>...</td>\n",
       "      <td>...</td>\n",
       "      <td>...</td>\n",
       "      <td>...</td>\n",
       "      <td>...</td>\n",
       "      <td>...</td>\n",
       "      <td>...</td>\n",
       "      <td>...</td>\n",
       "      <td>...</td>\n",
       "    </tr>\n",
       "    <tr>\n",
       "      <th>68692</th>\n",
       "      <td>138979</td>\n",
       "      <td>Plate from Pro dva kvadrata. Suprematicheskii ...</td>\n",
       "      <td>[El Lissitzky]</td>\n",
       "      <td>[Russian]</td>\n",
       "      <td>Illustrated Book</td>\n",
       "      <td>1922</td>\n",
       "      <td>1920</td>\n",
       "      <td>[Male]</td>\n",
       "      <td>One from an illustrated book with seven letter...</td>\n",
       "      <td>http://www.moma.org/media/W1siZiIsIjIyNzQ2MiJd...</td>\n",
       "      <td>[3569]</td>\n",
       "      <td>409778</td>\n",
       "      <td>89.2001.3</td>\n",
       "      <td>http://www.moma.org/collection/works/409778</td>\n",
       "      <td>black</td>\n",
       "    </tr>\n",
       "    <tr>\n",
       "      <th>68693</th>\n",
       "      <td>138980</td>\n",
       "      <td>Plate from Pro dva kvadrata. Suprematicheskii ...</td>\n",
       "      <td>[El Lissitzky]</td>\n",
       "      <td>[Russian]</td>\n",
       "      <td>Illustrated Book</td>\n",
       "      <td>1922</td>\n",
       "      <td>1920</td>\n",
       "      <td>[Male]</td>\n",
       "      <td>One from an illustrated book with seven letter...</td>\n",
       "      <td>http://www.moma.org/media/W1siZiIsIjIyNzQ2MyJd...</td>\n",
       "      <td>[3569]</td>\n",
       "      <td>409779</td>\n",
       "      <td>89.2001.4</td>\n",
       "      <td>http://www.moma.org/collection/works/409779</td>\n",
       "      <td>gainsboro</td>\n",
       "    </tr>\n",
       "    <tr>\n",
       "      <th>68694</th>\n",
       "      <td>138981</td>\n",
       "      <td>Plate from Pro dva kvadrata. Suprematicheskii ...</td>\n",
       "      <td>[El Lissitzky]</td>\n",
       "      <td>[Russian]</td>\n",
       "      <td>Illustrated Book</td>\n",
       "      <td>1922</td>\n",
       "      <td>1920</td>\n",
       "      <td>[Male]</td>\n",
       "      <td>One from an illustrated book with seven letter...</td>\n",
       "      <td>http://www.moma.org/media/W1siZiIsIjIyNzQ2NCJd...</td>\n",
       "      <td>[3569]</td>\n",
       "      <td>409780</td>\n",
       "      <td>89.2001.5</td>\n",
       "      <td>http://www.moma.org/collection/works/409780</td>\n",
       "      <td>gainsboro</td>\n",
       "    </tr>\n",
       "    <tr>\n",
       "      <th>68695</th>\n",
       "      <td>138982</td>\n",
       "      <td>Plate from Pro dva kvadrata. Suprematicheskii ...</td>\n",
       "      <td>[El Lissitzky]</td>\n",
       "      <td>[Russian]</td>\n",
       "      <td>Illustrated Book</td>\n",
       "      <td>1922</td>\n",
       "      <td>1920</td>\n",
       "      <td>[Male]</td>\n",
       "      <td>One from an illustrated book with seven letter...</td>\n",
       "      <td>http://www.moma.org/media/W1siZiIsIjIyNzQ2NSJd...</td>\n",
       "      <td>[3569]</td>\n",
       "      <td>409781</td>\n",
       "      <td>89.2001.6</td>\n",
       "      <td>http://www.moma.org/collection/works/409781</td>\n",
       "      <td>gainsboro</td>\n",
       "    </tr>\n",
       "    <tr>\n",
       "      <th>68696</th>\n",
       "      <td>138983</td>\n",
       "      <td>Cover from Pro dva kvadrata. Suprematicheskii ...</td>\n",
       "      <td>[El Lissitzky]</td>\n",
       "      <td>[Russian]</td>\n",
       "      <td>Illustrated Book</td>\n",
       "      <td>1922</td>\n",
       "      <td>1920</td>\n",
       "      <td>[Male]</td>\n",
       "      <td>One from an illustrated book with seven letter...</td>\n",
       "      <td>http://www.moma.org/media/W1siZiIsIjIyNzQ1OCJd...</td>\n",
       "      <td>[3569]</td>\n",
       "      <td>409782</td>\n",
       "      <td>89.2001.7</td>\n",
       "      <td>http://www.moma.org/collection/works/409782</td>\n",
       "      <td>gainsboro</td>\n",
       "    </tr>\n",
       "  </tbody>\n",
       "</table>\n",
       "<p>166713 rows × 15 columns</p>\n",
       "</div>"
      ],
      "text/plain": [
       "          FID                                              Title  \\\n",
       "0           0  Ferdinandsbrücke Project, Vienna, Austria (Ele...   \n",
       "1           1  City of Music, National Superior Conservatory ...   \n",
       "1           1  City of Music, National Superior Conservatory ...   \n",
       "2           2  Villa near Vienna Project, Outside Vienna, Aus...   \n",
       "2           2  Villa near Vienna Project, Outside Vienna, Aus...   \n",
       "...       ...                                                ...   \n",
       "68692  138979  Plate from Pro dva kvadrata. Suprematicheskii ...   \n",
       "68693  138980  Plate from Pro dva kvadrata. Suprematicheskii ...   \n",
       "68694  138981  Plate from Pro dva kvadrata. Suprematicheskii ...   \n",
       "68695  138982  Plate from Pro dva kvadrata. Suprematicheskii ...   \n",
       "68696  138983  Cover from Pro dva kvadrata. Suprematicheskii ...   \n",
       "\n",
       "                           Artist NationalityCleaner    Classification  \\\n",
       "0                   [Otto Wagner]         [Austrian]      Architecture   \n",
       "1      [Christian de Portzamparc]           [French]      Architecture   \n",
       "1      [Christian de Portzamparc]           [French]      Architecture   \n",
       "2                    [Emil Hoppe]         [Austrian]      Architecture   \n",
       "2                    [Emil Hoppe]         [Austrian]      Architecture   \n",
       "...                           ...                ...               ...   \n",
       "68692              [El Lissitzky]          [Russian]  Illustrated Book   \n",
       "68693              [El Lissitzky]          [Russian]  Illustrated Book   \n",
       "68694              [El Lissitzky]          [Russian]  Illustrated Book   \n",
       "68695              [El Lissitzky]          [Russian]  Illustrated Book   \n",
       "68696              [El Lissitzky]          [Russian]  Illustrated Book   \n",
       "\n",
       "       tidyDate  Decade GenderClean  \\\n",
       "0          1896    1890      [Male]   \n",
       "1          1987    1980      [Male]   \n",
       "1          1987    1980      [Male]   \n",
       "2          1903    1900      [Male]   \n",
       "2          1903    1900      [Male]   \n",
       "...         ...     ...         ...   \n",
       "68692      1922    1920      [Male]   \n",
       "68693      1922    1920      [Male]   \n",
       "68694      1922    1920      [Male]   \n",
       "68695      1922    1920      [Male]   \n",
       "68696      1922    1920      [Male]   \n",
       "\n",
       "                                                  Medium  \\\n",
       "0          Ink and cut-and-pasted painted pages on paper   \n",
       "1                      Paint and colored pencil on print   \n",
       "1                      Paint and colored pencil on print   \n",
       "2      Graphite, pen, color pencil, ink, and gouache ...   \n",
       "2      Graphite, pen, color pencil, ink, and gouache ...   \n",
       "...                                                  ...   \n",
       "68692  One from an illustrated book with seven letter...   \n",
       "68693  One from an illustrated book with seven letter...   \n",
       "68694  One from an illustrated book with seven letter...   \n",
       "68695  One from an illustrated book with seven letter...   \n",
       "68696  One from an illustrated book with seven letter...   \n",
       "\n",
       "                                            ThumbnailURL ConstituentID  \\\n",
       "0      http://www.moma.org/media/W1siZiIsIjU5NDA1Il0s...        [6210]   \n",
       "1      http://www.moma.org/media/W1siZiIsIjk3Il0sWyJw...        [7470]   \n",
       "1      http://www.moma.org/media/W1siZiIsIjk3Il0sWyJw...        [7470]   \n",
       "2      http://www.moma.org/media/W1siZiIsIjk4Il0sWyJw...        [7605]   \n",
       "2      http://www.moma.org/media/W1siZiIsIjk4Il0sWyJw...        [7605]   \n",
       "...                                                  ...           ...   \n",
       "68692  http://www.moma.org/media/W1siZiIsIjIyNzQ2MiJd...        [3569]   \n",
       "68693  http://www.moma.org/media/W1siZiIsIjIyNzQ2MyJd...        [3569]   \n",
       "68694  http://www.moma.org/media/W1siZiIsIjIyNzQ2NCJd...        [3569]   \n",
       "68695  http://www.moma.org/media/W1siZiIsIjIyNzQ2NSJd...        [3569]   \n",
       "68696  http://www.moma.org/media/W1siZiIsIjIyNzQ1OCJd...        [3569]   \n",
       "\n",
       "       ObjectID AccessionNumber                                          URL  \\\n",
       "0             2        885.1996       http://www.moma.org/collection/works/2   \n",
       "1             3          1.1995       http://www.moma.org/collection/works/3   \n",
       "1             3          1.1995       http://www.moma.org/collection/works/3   \n",
       "2             4          1.1997       http://www.moma.org/collection/works/4   \n",
       "2             4          1.1997       http://www.moma.org/collection/works/4   \n",
       "...         ...             ...                                          ...   \n",
       "68692    409778       89.2001.3  http://www.moma.org/collection/works/409778   \n",
       "68693    409779       89.2001.4  http://www.moma.org/collection/works/409779   \n",
       "68694    409780       89.2001.5  http://www.moma.org/collection/works/409780   \n",
       "68695    409781       89.2001.6  http://www.moma.org/collection/works/409781   \n",
       "68696    409782       89.2001.7  http://www.moma.org/collection/works/409782   \n",
       "\n",
       "          Colors  \n",
       "0      rosybrown  \n",
       "1      rosybrown  \n",
       "1        dimgray  \n",
       "2          wheat  \n",
       "2      rosybrown  \n",
       "...          ...  \n",
       "68692      black  \n",
       "68693  gainsboro  \n",
       "68694  gainsboro  \n",
       "68695  gainsboro  \n",
       "68696  gainsboro  \n",
       "\n",
       "[166713 rows x 15 columns]"
      ]
     },
     "execution_count": 30,
     "metadata": {},
     "output_type": "execute_result"
    }
   ],
   "source": [
    "artworks"
   ]
  },
  {
   "cell_type": "markdown",
   "metadata": {},
   "source": [
    "NOT USED\n",
    "colorsRGB = {\n",
    "    'Black' : (0,0,0),\n",
    "    'White': (255,255,255),\n",
    "    'Red': (255,0,0),\n",
    "    'Lime' : (0,255,0),\n",
    "    'Blue': (0,0,255),\n",
    "    'Yellow': (255,255,0),\n",
    "    'Cyan': (0,255,255),\n",
    "    'Magenta': (255,0,255),\n",
    "    'Silver': (192,192,192),\n",
    "    'Gray': (128,128,128),\n",
    "    'Maroon': (128,0,0),\n",
    "    'Olive': (128,128,0),\n",
    "    'Green': (0,128,0),\n",
    "    'Purple': (128,0,128),\n",
    "    'Teal': (0,128,128),\n",
    "    'Navy': (0,0,128)\n",
    "}"
   ]
  }
 ],
 "metadata": {
  "kernelspec": {
   "display_name": "Python 3",
   "language": "python",
   "name": "python3"
  },
  "language_info": {
   "codemirror_mode": {
    "name": "ipython",
    "version": 3
   },
   "file_extension": ".py",
   "mimetype": "text/x-python",
   "name": "python",
   "nbconvert_exporter": "python",
   "pygments_lexer": "ipython3",
   "version": "3.7.3"
  }
 },
 "nbformat": 4,
 "nbformat_minor": 4
}
